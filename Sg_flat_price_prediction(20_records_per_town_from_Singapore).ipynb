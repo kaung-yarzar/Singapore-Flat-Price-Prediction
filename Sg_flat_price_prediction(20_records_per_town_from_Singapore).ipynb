{
  "cells": [
    {
      "cell_type": "markdown",
      "metadata": {
        "id": "nfcBjl8BYSeA"
      },
      "source": [
        "\n",
        "# 1. Understand the Data"
      ]
    },
    {
      "cell_type": "code",
      "execution_count": 1,
      "metadata": {
        "colab": {
          "base_uri": "https://localhost:8080/"
        },
        "id": "5IU4nxQKkZcV",
        "outputId": "0006e2ff-a200-42ae-ab91-82320b1be9f6"
      },
      "outputs": [
        {
          "name": "stdout",
          "output_type": "stream",
          "text": [
            "shape : (520, 14)  \n",
            "\n",
            "columns : ['address', 'closest_mrt', 'closest_mrt_dist', 'cbd_dist', 'month', 'town', 'flat_type', 'block', 'storey_range', 'floor_area_sqm', 'flat_model', 'resale_price', 'year', 'years_remaining']  \n",
            "\n",
            "<class 'pandas.core.frame.DataFrame'>\n",
            "RangeIndex: 520 entries, 0 to 519\n",
            "Data columns (total 14 columns):\n",
            " #   Column            Non-Null Count  Dtype  \n",
            "---  ------            --------------  -----  \n",
            " 0   address           520 non-null    object \n",
            " 1   closest_mrt       520 non-null    object \n",
            " 2   closest_mrt_dist  520 non-null    float64\n",
            " 3   cbd_dist          520 non-null    float64\n",
            " 4   month             520 non-null    object \n",
            " 5   town              520 non-null    object \n",
            " 6   flat_type         520 non-null    object \n",
            " 7   block             520 non-null    object \n",
            " 8   storey_range      520 non-null    object \n",
            " 9   floor_area_sqm    520 non-null    float64\n",
            " 10  flat_model        520 non-null    object \n",
            " 11  resale_price      520 non-null    float64\n",
            " 12  year              520 non-null    int64  \n",
            " 13  years_remaining   520 non-null    int64  \n",
            "dtypes: float64(4), int64(2), object(8)\n",
            "memory usage: 57.0+ KB\n",
            "info : \n",
            "None\n"
          ]
        }
      ],
      "source": [
        "import pandas as pd\n",
        "\n",
        "df=pd.read_csv('data/20_record_per_town.csv')\n",
        "\n",
        "print(f'shape : {df.shape}  \\n')\n",
        "\n",
        "df.columns = [name.strip() for name in list(df.columns)]\n",
        "\n",
        "print(f'columns : {df.columns.to_list()}  \\n')\n",
        "\n",
        "print(f'info : \\n{df.info()}')\n",
        "\n",
        "##print(f'Reading : \\n{df.describe()}')"
      ]
    },
    {
      "cell_type": "markdown",
      "metadata": {
        "id": "U4IgQtK14q9g"
      },
      "source": [
        "# 2. Data Splitting\n"
      ]
    },
    {
      "cell_type": "code",
      "execution_count": 2,
      "metadata": {
        "colab": {
          "base_uri": "https://localhost:8080/"
        },
        "id": "c6gTII5_kd1W",
        "outputId": "8510044d-1fbd-4c37-926f-8f5d0fb5d7e7"
      },
      "outputs": [
        {
          "name": "stdout",
          "output_type": "stream",
          "text": [
            "(364, 7) (156, 7)\n"
          ]
        }
      ],
      "source": [
        "# select the dependent and target\n",
        "#All Features: 'closest_mrt_dist', 'cbd_dist', 'floor_area_sqm', 'years_remaining','flat_model','town', 'storey_range'\n",
        "numerical_features = ['closest_mrt_dist', 'cbd_dist', 'floor_area_sqm', 'years_remaining']\n",
        "categorical_features = ['flat_model','town', 'storey_range']\n",
        "\n",
        "X = df[ numerical_features + categorical_features ]\n",
        "y=df['resale_price'].values\n",
        "\n",
        "# Import the libary to split the data\n",
        "from sklearn.model_selection import train_test_split\n",
        "X_train, X_test, y_train, y_test = train_test_split(X,y,\n",
        "                                                    test_size = 0.3,\n",
        "                                                    random_state=42)\n",
        "\n",
        "\n",
        "# Print the size of the training and testing data\n",
        "print(X_train.shape, X_test.shape)"
      ]
    },
    {
      "cell_type": "markdown",
      "metadata": {
        "id": "EAPm_I2k4u40"
      },
      "source": [
        "# 3. Use scikit-learn pipeline\n"
      ]
    },
    {
      "cell_type": "code",
      "execution_count": 3,
      "metadata": {
        "id": "KOf8oYr3jm2L"
      },
      "outputs": [],
      "source": [
        "## Import libraries\n",
        "\n",
        "from sklearn.model_selection import GridSearchCV\n",
        "from sklearn.preprocessing import StandardScaler\n",
        "from sklearn.preprocessing import PolynomialFeatures\n",
        "from sklearn.linear_model import LinearRegression\n",
        "from sklearn.pipeline import Pipeline\n",
        "from sklearn.compose import ColumnTransformer\n",
        "from sklearn.preprocessing import OneHotEncoder, OrdinalEncoder"
      ]
    },
    {
      "cell_type": "markdown",
      "metadata": {
        "id": "HHEVn2y_5Vvo"
      },
      "source": [
        "## Choose and Run only one of these Encoding Method and skip the unused encoding method"
      ]
    },
    {
      "cell_type": "code",
      "execution_count": 4,
      "metadata": {
        "colab": {
          "base_uri": "https://localhost:8080/",
          "height": 268
        },
        "id": "f0tDtWsQjZee",
        "outputId": "a1df5b18-7041-4df3-f6ee-d6daa3d8f017"
      },
      "outputs": [
        {
          "name": "stdout",
          "output_type": "stream",
          "text": [
            "Fitting 5 folds for each of 3 candidates, totalling 15 fits\n"
          ]
        },
        {
          "data": {
            "text/html": [
              "<style>#sk-container-id-1 {color: black;background-color: white;}#sk-container-id-1 pre{padding: 0;}#sk-container-id-1 div.sk-toggleable {background-color: white;}#sk-container-id-1 label.sk-toggleable__label {cursor: pointer;display: block;width: 100%;margin-bottom: 0;padding: 0.3em;box-sizing: border-box;text-align: center;}#sk-container-id-1 label.sk-toggleable__label-arrow:before {content: \"▸\";float: left;margin-right: 0.25em;color: #696969;}#sk-container-id-1 label.sk-toggleable__label-arrow:hover:before {color: black;}#sk-container-id-1 div.sk-estimator:hover label.sk-toggleable__label-arrow:before {color: black;}#sk-container-id-1 div.sk-toggleable__content {max-height: 0;max-width: 0;overflow: hidden;text-align: left;background-color: #f0f8ff;}#sk-container-id-1 div.sk-toggleable__content pre {margin: 0.2em;color: black;border-radius: 0.25em;background-color: #f0f8ff;}#sk-container-id-1 input.sk-toggleable__control:checked~div.sk-toggleable__content {max-height: 200px;max-width: 100%;overflow: auto;}#sk-container-id-1 input.sk-toggleable__control:checked~label.sk-toggleable__label-arrow:before {content: \"▾\";}#sk-container-id-1 div.sk-estimator input.sk-toggleable__control:checked~label.sk-toggleable__label {background-color: #d4ebff;}#sk-container-id-1 div.sk-label input.sk-toggleable__control:checked~label.sk-toggleable__label {background-color: #d4ebff;}#sk-container-id-1 input.sk-hidden--visually {border: 0;clip: rect(1px 1px 1px 1px);clip: rect(1px, 1px, 1px, 1px);height: 1px;margin: -1px;overflow: hidden;padding: 0;position: absolute;width: 1px;}#sk-container-id-1 div.sk-estimator {font-family: monospace;background-color: #f0f8ff;border: 1px dotted black;border-radius: 0.25em;box-sizing: border-box;margin-bottom: 0.5em;}#sk-container-id-1 div.sk-estimator:hover {background-color: #d4ebff;}#sk-container-id-1 div.sk-parallel-item::after {content: \"\";width: 100%;border-bottom: 1px solid gray;flex-grow: 1;}#sk-container-id-1 div.sk-label:hover label.sk-toggleable__label {background-color: #d4ebff;}#sk-container-id-1 div.sk-serial::before {content: \"\";position: absolute;border-left: 1px solid gray;box-sizing: border-box;top: 0;bottom: 0;left: 50%;z-index: 0;}#sk-container-id-1 div.sk-serial {display: flex;flex-direction: column;align-items: center;background-color: white;padding-right: 0.2em;padding-left: 0.2em;position: relative;}#sk-container-id-1 div.sk-item {position: relative;z-index: 1;}#sk-container-id-1 div.sk-parallel {display: flex;align-items: stretch;justify-content: center;background-color: white;position: relative;}#sk-container-id-1 div.sk-item::before, #sk-container-id-1 div.sk-parallel-item::before {content: \"\";position: absolute;border-left: 1px solid gray;box-sizing: border-box;top: 0;bottom: 0;left: 50%;z-index: -1;}#sk-container-id-1 div.sk-parallel-item {display: flex;flex-direction: column;z-index: 1;position: relative;background-color: white;}#sk-container-id-1 div.sk-parallel-item:first-child::after {align-self: flex-end;width: 50%;}#sk-container-id-1 div.sk-parallel-item:last-child::after {align-self: flex-start;width: 50%;}#sk-container-id-1 div.sk-parallel-item:only-child::after {width: 0;}#sk-container-id-1 div.sk-dashed-wrapped {border: 1px dashed gray;margin: 0 0.4em 0.5em 0.4em;box-sizing: border-box;padding-bottom: 0.4em;background-color: white;}#sk-container-id-1 div.sk-label label {font-family: monospace;font-weight: bold;display: inline-block;line-height: 1.2em;}#sk-container-id-1 div.sk-label-container {text-align: center;}#sk-container-id-1 div.sk-container {/* jupyter's `normalize.less` sets `[hidden] { display: none; }` but bootstrap.min.css set `[hidden] { display: none !important; }` so we also need the `!important` here to be able to override the default hidden behavior on the sphinx rendered scikit-learn.org. See: https://github.com/scikit-learn/scikit-learn/issues/21755 */display: inline-block !important;position: relative;}#sk-container-id-1 div.sk-text-repr-fallback {display: none;}</style><div id=\"sk-container-id-1\" class=\"sk-top-container\"><div class=\"sk-text-repr-fallback\"><pre>GridSearchCV(cv=5,\n",
              "             estimator=Pipeline(steps=[(&#x27;preprocessor&#x27;,\n",
              "                                        ColumnTransformer(transformers=[(&#x27;num&#x27;,\n",
              "                                                                         StandardScaler(),\n",
              "                                                                         [&#x27;closest_mrt_dist&#x27;,\n",
              "                                                                          &#x27;cbd_dist&#x27;,\n",
              "                                                                          &#x27;floor_area_sqm&#x27;,\n",
              "                                                                          &#x27;years_remaining&#x27;]),\n",
              "                                                                        (&#x27;cat&#x27;,\n",
              "                                                                         OneHotEncoder(handle_unknown=&#x27;ignore&#x27;),\n",
              "                                                                         [&#x27;flat_model&#x27;,\n",
              "                                                                          &#x27;town&#x27;,\n",
              "                                                                          &#x27;storey_range&#x27;])])),\n",
              "                                       (&#x27;poly&#x27;,\n",
              "                                        PolynomialFeatures(degree=5,\n",
              "                                                           include_bias=False)),\n",
              "                                       (&#x27;liReg&#x27;, LinearRegression())]),\n",
              "             param_grid={&#x27;poly__degree&#x27;: [1, 2, 3]},\n",
              "             scoring=&#x27;neg_mean_squared_error&#x27;, verbose=True)</pre><b>In a Jupyter environment, please rerun this cell to show the HTML representation or trust the notebook. <br />On GitHub, the HTML representation is unable to render, please try loading this page with nbviewer.org.</b></div><div class=\"sk-container\" hidden><div class=\"sk-item sk-dashed-wrapped\"><div class=\"sk-label-container\"><div class=\"sk-label sk-toggleable\"><input class=\"sk-toggleable__control sk-hidden--visually\" id=\"sk-estimator-id-1\" type=\"checkbox\" ><label for=\"sk-estimator-id-1\" class=\"sk-toggleable__label sk-toggleable__label-arrow\">GridSearchCV</label><div class=\"sk-toggleable__content\"><pre>GridSearchCV(cv=5,\n",
              "             estimator=Pipeline(steps=[(&#x27;preprocessor&#x27;,\n",
              "                                        ColumnTransformer(transformers=[(&#x27;num&#x27;,\n",
              "                                                                         StandardScaler(),\n",
              "                                                                         [&#x27;closest_mrt_dist&#x27;,\n",
              "                                                                          &#x27;cbd_dist&#x27;,\n",
              "                                                                          &#x27;floor_area_sqm&#x27;,\n",
              "                                                                          &#x27;years_remaining&#x27;]),\n",
              "                                                                        (&#x27;cat&#x27;,\n",
              "                                                                         OneHotEncoder(handle_unknown=&#x27;ignore&#x27;),\n",
              "                                                                         [&#x27;flat_model&#x27;,\n",
              "                                                                          &#x27;town&#x27;,\n",
              "                                                                          &#x27;storey_range&#x27;])])),\n",
              "                                       (&#x27;poly&#x27;,\n",
              "                                        PolynomialFeatures(degree=5,\n",
              "                                                           include_bias=False)),\n",
              "                                       (&#x27;liReg&#x27;, LinearRegression())]),\n",
              "             param_grid={&#x27;poly__degree&#x27;: [1, 2, 3]},\n",
              "             scoring=&#x27;neg_mean_squared_error&#x27;, verbose=True)</pre></div></div></div><div class=\"sk-parallel\"><div class=\"sk-parallel-item\"><div class=\"sk-item\"><div class=\"sk-label-container\"><div class=\"sk-label sk-toggleable\"><input class=\"sk-toggleable__control sk-hidden--visually\" id=\"sk-estimator-id-2\" type=\"checkbox\" ><label for=\"sk-estimator-id-2\" class=\"sk-toggleable__label sk-toggleable__label-arrow\">estimator: Pipeline</label><div class=\"sk-toggleable__content\"><pre>Pipeline(steps=[(&#x27;preprocessor&#x27;,\n",
              "                 ColumnTransformer(transformers=[(&#x27;num&#x27;, StandardScaler(),\n",
              "                                                  [&#x27;closest_mrt_dist&#x27;,\n",
              "                                                   &#x27;cbd_dist&#x27;, &#x27;floor_area_sqm&#x27;,\n",
              "                                                   &#x27;years_remaining&#x27;]),\n",
              "                                                 (&#x27;cat&#x27;,\n",
              "                                                  OneHotEncoder(handle_unknown=&#x27;ignore&#x27;),\n",
              "                                                  [&#x27;flat_model&#x27;, &#x27;town&#x27;,\n",
              "                                                   &#x27;storey_range&#x27;])])),\n",
              "                (&#x27;poly&#x27;, PolynomialFeatures(degree=5, include_bias=False)),\n",
              "                (&#x27;liReg&#x27;, LinearRegression())])</pre></div></div></div><div class=\"sk-serial\"><div class=\"sk-item\"><div class=\"sk-serial\"><div class=\"sk-item sk-dashed-wrapped\"><div class=\"sk-label-container\"><div class=\"sk-label sk-toggleable\"><input class=\"sk-toggleable__control sk-hidden--visually\" id=\"sk-estimator-id-3\" type=\"checkbox\" ><label for=\"sk-estimator-id-3\" class=\"sk-toggleable__label sk-toggleable__label-arrow\">preprocessor: ColumnTransformer</label><div class=\"sk-toggleable__content\"><pre>ColumnTransformer(transformers=[(&#x27;num&#x27;, StandardScaler(),\n",
              "                                 [&#x27;closest_mrt_dist&#x27;, &#x27;cbd_dist&#x27;,\n",
              "                                  &#x27;floor_area_sqm&#x27;, &#x27;years_remaining&#x27;]),\n",
              "                                (&#x27;cat&#x27;, OneHotEncoder(handle_unknown=&#x27;ignore&#x27;),\n",
              "                                 [&#x27;flat_model&#x27;, &#x27;town&#x27;, &#x27;storey_range&#x27;])])</pre></div></div></div><div class=\"sk-parallel\"><div class=\"sk-parallel-item\"><div class=\"sk-item\"><div class=\"sk-label-container\"><div class=\"sk-label sk-toggleable\"><input class=\"sk-toggleable__control sk-hidden--visually\" id=\"sk-estimator-id-4\" type=\"checkbox\" ><label for=\"sk-estimator-id-4\" class=\"sk-toggleable__label sk-toggleable__label-arrow\">num</label><div class=\"sk-toggleable__content\"><pre>[&#x27;closest_mrt_dist&#x27;, &#x27;cbd_dist&#x27;, &#x27;floor_area_sqm&#x27;, &#x27;years_remaining&#x27;]</pre></div></div></div><div class=\"sk-serial\"><div class=\"sk-item\"><div class=\"sk-estimator sk-toggleable\"><input class=\"sk-toggleable__control sk-hidden--visually\" id=\"sk-estimator-id-5\" type=\"checkbox\" ><label for=\"sk-estimator-id-5\" class=\"sk-toggleable__label sk-toggleable__label-arrow\">StandardScaler</label><div class=\"sk-toggleable__content\"><pre>StandardScaler()</pre></div></div></div></div></div></div><div class=\"sk-parallel-item\"><div class=\"sk-item\"><div class=\"sk-label-container\"><div class=\"sk-label sk-toggleable\"><input class=\"sk-toggleable__control sk-hidden--visually\" id=\"sk-estimator-id-6\" type=\"checkbox\" ><label for=\"sk-estimator-id-6\" class=\"sk-toggleable__label sk-toggleable__label-arrow\">cat</label><div class=\"sk-toggleable__content\"><pre>[&#x27;flat_model&#x27;, &#x27;town&#x27;, &#x27;storey_range&#x27;]</pre></div></div></div><div class=\"sk-serial\"><div class=\"sk-item\"><div class=\"sk-estimator sk-toggleable\"><input class=\"sk-toggleable__control sk-hidden--visually\" id=\"sk-estimator-id-7\" type=\"checkbox\" ><label for=\"sk-estimator-id-7\" class=\"sk-toggleable__label sk-toggleable__label-arrow\">OneHotEncoder</label><div class=\"sk-toggleable__content\"><pre>OneHotEncoder(handle_unknown=&#x27;ignore&#x27;)</pre></div></div></div></div></div></div></div></div><div class=\"sk-item\"><div class=\"sk-estimator sk-toggleable\"><input class=\"sk-toggleable__control sk-hidden--visually\" id=\"sk-estimator-id-8\" type=\"checkbox\" ><label for=\"sk-estimator-id-8\" class=\"sk-toggleable__label sk-toggleable__label-arrow\">PolynomialFeatures</label><div class=\"sk-toggleable__content\"><pre>PolynomialFeatures(degree=5, include_bias=False)</pre></div></div></div><div class=\"sk-item\"><div class=\"sk-estimator sk-toggleable\"><input class=\"sk-toggleable__control sk-hidden--visually\" id=\"sk-estimator-id-9\" type=\"checkbox\" ><label for=\"sk-estimator-id-9\" class=\"sk-toggleable__label sk-toggleable__label-arrow\">LinearRegression</label><div class=\"sk-toggleable__content\"><pre>LinearRegression()</pre></div></div></div></div></div></div></div></div></div></div></div></div>"
            ],
            "text/plain": [
              "GridSearchCV(cv=5,\n",
              "             estimator=Pipeline(steps=[('preprocessor',\n",
              "                                        ColumnTransformer(transformers=[('num',\n",
              "                                                                         StandardScaler(),\n",
              "                                                                         ['closest_mrt_dist',\n",
              "                                                                          'cbd_dist',\n",
              "                                                                          'floor_area_sqm',\n",
              "                                                                          'years_remaining']),\n",
              "                                                                        ('cat',\n",
              "                                                                         OneHotEncoder(handle_unknown='ignore'),\n",
              "                                                                         ['flat_model',\n",
              "                                                                          'town',\n",
              "                                                                          'storey_range'])])),\n",
              "                                       ('poly',\n",
              "                                        PolynomialFeatures(degree=5,\n",
              "                                                           include_bias=False)),\n",
              "                                       ('liReg', LinearRegression())]),\n",
              "             param_grid={'poly__degree': [1, 2, 3]},\n",
              "             scoring='neg_mean_squared_error', verbose=True)"
            ]
          },
          "execution_count": 4,
          "metadata": {},
          "output_type": "execute_result"
        }
      ],
      "source": [
        "## One-Hot Encoding\n",
        "\n",
        "preprocessor = ColumnTransformer(\n",
        "    transformers=[\n",
        "        ('num', StandardScaler(),numerical_features ),\n",
        "        ('cat', OneHotEncoder(handle_unknown='ignore'), categorical_features )\n",
        "    ])\n",
        "\n",
        "# Define the pipeline\n",
        "steps = [('preprocessor', preprocessor),\n",
        "         ('poly', PolynomialFeatures(degree = 5, include_bias=False)),\n",
        "         ('liReg', LinearRegression())]\n",
        "\n",
        "pipeline = Pipeline(steps)\n",
        "\n",
        "parameters = {\"poly__degree\":[1, 2, 3]}\n",
        "poly_grid = GridSearchCV(pipeline, parameters,\n",
        "                         cv=5,\n",
        "                         scoring='neg_mean_squared_error',\n",
        "                         verbose= True)\n",
        "\n",
        "poly_grid.fit(X_train, y_train)\n",
        "\n"
      ]
    },
    {
      "cell_type": "markdown",
      "metadata": {
        "id": "K9fHOAta49Jq"
      },
      "source": [
        "# (OR)"
      ]
    },
    {
      "cell_type": "code",
      "execution_count": null,
      "metadata": {
        "id": "j-eQim7Zki8M"
      },
      "outputs": [],
      "source": [
        "## Label Encoding\n",
        "\n",
        "preprocessor = ColumnTransformer(\n",
        "    transformers=[\n",
        "        ('num', StandardScaler(), numerical_features),\n",
        "        ('cat', OrdinalEncoder(handle_unknown='use_encoded_value', unknown_value=-1), categorical_features)\n",
        "    ])\n",
        "\n",
        "steps = [('preprocessor', preprocessor),\n",
        "        ('poly', PolynomialFeatures(degree = 5, include_bias=False)),\n",
        "        ('liReg', LinearRegression())]\n",
        "\n",
        "pipeline = Pipeline(steps)\n",
        "\n",
        "parameters = {\"poly__degree\":[1, 2, 3, 4, 5]}\n",
        "poly_grid = GridSearchCV(pipeline, parameters,\n",
        "                        cv=5,\n",
        "                        scoring='neg_mean_squared_error',\n",
        "                        verbose= True)\n",
        "\n",
        "poly_grid.fit(X_train, y_train)"
      ]
    },
    {
      "cell_type": "markdown",
      "metadata": {
        "id": "CZsymsji5rlY"
      },
      "source": [
        "# 4. Check the parameters"
      ]
    },
    {
      "cell_type": "code",
      "execution_count": 5,
      "metadata": {
        "colab": {
          "base_uri": "https://localhost:8080/"
        },
        "id": "Z_gLQO0Kn-kF",
        "outputId": "2b2f1d69-34cc-4607-84ed-09ff0fb2ec15"
      },
      "outputs": [
        {
          "name": "stdout",
          "output_type": "stream",
          "text": [
            "best order is : {'poly__degree': 1}\n"
          ]
        }
      ],
      "source": [
        "best_parameters = poly_grid.best_params_\n",
        "\n",
        "# print the values of the parameters\n",
        "print ('best order is :', best_parameters)"
      ]
    },
    {
      "cell_type": "markdown",
      "metadata": {
        "id": "WQfDMJa15wj5"
      },
      "source": [
        "# 5. Perform the predictions"
      ]
    },
    {
      "cell_type": "code",
      "execution_count": 6,
      "metadata": {
        "id": "6Udg1q1jkKK8"
      },
      "outputs": [],
      "source": [
        "#predict the sales for the testing data\n",
        "ytest_pred = poly_grid.predict(X_test)\n",
        "\n",
        "#predict the sales for the training data\n",
        "ytrain_pred = poly_grid.predict(X_train)"
      ]
    },
    {
      "cell_type": "markdown",
      "metadata": {
        "id": "DIUfyVHb51No"
      },
      "source": [
        "\n",
        "\n",
        "# 6. Visualize the results\n"
      ]
    },
    {
      "cell_type": "code",
      "execution_count": 7,
      "metadata": {
        "colab": {
          "base_uri": "https://localhost:8080/",
          "height": 470
        },
        "id": "oitRMKz4kMuh",
        "outputId": "09291c24-3f24-4fa2-b676-fe5bd96a6bc0"
      },
      "outputs": [
        {
          "data": {
            "image/png": "[encoded data removed]",
            "text/plain": [
              "<Figure size 640x480 with 1 Axes>"
            ]
          },
          "metadata": {},
          "output_type": "display_data"
        }
      ],
      "source": [
        "# import matplotlib for visualization\n",
        "\n",
        "import matplotlib.pyplot as plt\n",
        "\n",
        "plt.plot(  y_train, ytrain_pred, 'k*')\n",
        "plt.plot(  y_test, ytest_pred, 'r*')\n",
        "\n",
        "plt.title(\"Predicted value vs. Actual value\")\n",
        "plt.legend([\"Training data\", \"Testing data\"])\n",
        "plt.show()"
      ]
    },
    {
      "cell_type": "markdown",
      "metadata": {
        "id": "F-1yC_gi58N6"
      },
      "source": []
    },
    {
      "cell_type": "markdown",
      "metadata": {
        "id": "TRGq5QCV57wv"
      },
      "source": [
        "# 7. Evaluate the results using metrics\n"
      ]
    },
    {
      "cell_type": "code",
      "execution_count": 8,
      "metadata": {
        "colab": {
          "base_uri": "https://localhost:8080/"
        },
        "id": "vIZ0gDNPkRcI",
        "outputId": "b800b7a6-f1e2-4ce7-b8f0-aa6b2dbbd380"
      },
      "outputs": [
        {
          "name": "stdout",
          "output_type": "stream",
          "text": [
            "Training\n",
            "Mean absolute error:  54289.22767379502\n",
            "Mean squared error:  4850046931.57604\n",
            "R2 score is:  0.8833347011026791\n",
            "\n",
            "Testing\n",
            "Mean absolute error:  63138.07759990407\n",
            "Mean squared error:  6148320881.161711\n",
            "R2 score is:  0.8218869188914134\n"
          ]
        }
      ],
      "source": [
        "from sklearn.metrics import mean_absolute_error\n",
        "from sklearn.metrics import mean_squared_error\n",
        "from sklearn.metrics import r2_score\n",
        "\n",
        "# evauate on the training set\n",
        "print('Training')\n",
        "mae = mean_absolute_error(y_train, ytrain_pred)\n",
        "print('Mean absolute error: ', mae)\n",
        "mse = mean_squared_error(y_train, ytrain_pred)\n",
        "print('Mean squared error: ', mse)\n",
        "r2 = r2_score(y_train, ytrain_pred)\n",
        "print('R2 score is: ', r2)\n",
        "print('\\nTesting')\n",
        "# evauate on the testing set\n",
        "mae = mean_absolute_error(y_test, ytest_pred)\n",
        "print('Mean absolute error: ', mae)\n",
        "mse = mean_squared_error(y_test, ytest_pred)\n",
        "print('Mean squared error: ', mse)\n",
        "r2 = r2_score(y_test, ytest_pred)\n",
        "print('R2 score is: ', r2)"
      ]
    },
    {
      "cell_type": "markdown",
      "metadata": {
        "id": "AEjIV8aI5_or"
      },
      "source": [
        "# Compare the results from One-Hot and Label Encoding Methods"
      ]
    },
    {
      "cell_type": "code",
      "execution_count": 8,
      "metadata": {
        "colab": {
          "base_uri": "https://localhost:8080/",
          "height": 452
        },
        "id": "SySDC2Phkb3N",
        "outputId": "c5f718bf-4d92-4c88-bbfc-00371b150c90"
      },
      "outputs": [
        {
          "data": {
            "image/png": "[encoded data removed]",
            "text/plain": [
              "<Figure size 640x480 with 1 Axes>"
            ]
          },
          "metadata": {},
          "output_type": "display_data"
        }
      ],
      "source": [
        "import matplotlib.pyplot as plt\n",
        "import numpy as np\n",
        "\n",
        "\n",
        "\n",
        "categories = ['Testing', 'Training']\n",
        "\n",
        "\n",
        "## Enter the results of R2 scores here\n",
        "\n",
        "one_hot_encoding = [0.8833347011026791, 0.8218869188914134]\n",
        "\n",
        "label_encoding = [0.8482819779710573, 0.8083062515550115]\n",
        "\n",
        "\n",
        "\n",
        "\n",
        "\n",
        "x = np.arange(len(categories))  # the label locations\n",
        "width = 0.35  # the width of the bars\n",
        "\n",
        "fig, ax = plt.subplots()\n",
        "\n",
        "# Plotting One-Hot bars\n",
        "rects1 = ax.bar(x - width/2, one_hot_encoding, width, label='One-Hot', color='darkblue')\n",
        "\n",
        "# Plotting RMSE bars\n",
        "rects2 = ax.bar(x + width/2, label_encoding, width, label='Label (Best', color='orange')\n",
        "\n",
        "# Add some text for labels, title and custom x-axis tick labels, etc.\n",
        "ax.set_ylabel('R2 Score')\n",
        "ax.set_ylim([0.7, 0.9])  # Setting Y scale from 0 to 1\n",
        "ax.set_title('One-hot and Label Enconding Comparison')\n",
        "ax.set_xticks(x)\n",
        "ax.set_xticklabels(categories)\n",
        "ax.legend()\n",
        "\n",
        "# Display the plot\n",
        "plt.show()"
      ]
    }
  ],
  "metadata": {
    "colab": {
      "provenance": []
    },
    "kernelspec": {
      "display_name": "Python 3",
      "name": "python3"
    },
    "language_info": {
      "name": "python"
    }
  },
  "nbformat": 4,
  "nbformat_minor": 0
}
