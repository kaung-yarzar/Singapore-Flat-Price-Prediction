{
  "cells": [
    {
      "cell_type": "markdown",
      "metadata": {
        "id": "zt_JsHinWXlv"
      },
      "source": [
        "\n",
        "# 1. Understand the Data\n",
        "\n"
      ]
    },
    {
      "cell_type": "code",
      "execution_count": null,
      "metadata": {
        "id": "xUz_IG41Va5D"
      },
      "outputs": [],
      "source": [
        "import pandas as pd\n",
        "\n",
        "df=pd.read_csv('data/data.csv') # Read the CSV\n",
        "\n",
        "print(f'shape : {df.shape}  \\n')\n",
        "\n",
        "df.columns = [name.strip() for name in list(df.columns)]  # Clean the columns names\n",
        "\n",
        "print(f'columns : {df.columns.to_list()}  \\n')\n",
        "\n",
        "print(f'info : \\n{df.info()}')\n",
        "\n",
        "##print(f'Reading : \\n{df.describe()}')"
      ]
    },
    {
      "cell_type": "code",
      "execution_count": null,
      "metadata": {
        "id": "nS5jCzoc0VM3"
      },
      "outputs": [],
      "source": [
        "#handling duplicates and null\n",
        "\n",
        "print('duplicated data points : ', df.duplicated().sum())\n",
        "\n",
        "df = df.drop_duplicates()\n",
        "\n",
        "\n",
        "print('null data points : \\n', df.isnull().sum())\n",
        "df = df.dropna()\n",
        "\n",
        "print('shape : ', df.shape)"
      ]
    },
    {
      "cell_type": "markdown",
      "metadata": {
        "id": "R0Xda-4stAg7"
      },
      "source": [
        "# 2. Data Range Selection"
      ]
    },
    {
      "cell_type": "code",
      "execution_count": null,
      "metadata": {
        "id": "cDul-7k6XKw_"
      },
      "outputs": [],
      "source": [
        "##function for data selection such as tail, head, random and number of data points\n",
        "def choose_data_order(d_frame):\n",
        "  sample_number = int(input(\"Enter number of records for each town \\n** Note: Not less than 10, Not More Than 40\\n\"))\n",
        "\n",
        "  if sample_number >= 10 and sample_number <=40:\n",
        "    choice = input(\"Type \\n 1 for Top data \\n 2 for Bottom data \\n 3 for Random data \\n\")\n",
        "\n",
        "    if choice == '1':\n",
        "      d_frame = d_frame.groupby('town').head(sample_number)\n",
        "    elif choice == '2':\n",
        "      d_frame = d_frame.groupby('town').tail(sample_number)\n",
        "    elif choice == '3':\n",
        "      d_frame = d_frame.groupby('town').sample(sample_number)\n",
        "    else:\n",
        "      print(\"Invalid Choice\")\n",
        "      return None\n",
        "    return d_frame\n",
        "\n",
        "  else:\n",
        "    print(\"Invalid Sample Number\")\n",
        "    return None\n",
        "\n",
        "\n",
        "trimmed_df = choose_data_order(df)\n",
        "\n",
        "\n",
        "#output the chosen data\n",
        "if trimmed_df is not None:\n",
        "  print('\\n\\n',trimmed_df['town'].value_counts())\n",
        "  print(trimmed_df.shape)\n"
      ]
    },
    {
      "cell_type": "markdown",
      "metadata": {
        "id": "Qmcv_wontMxA"
      },
      "source": [
        "# 3. Data Splitting"
      ]
    },
    {
      "cell_type": "code",
      "execution_count": null,
      "metadata": {
        "id": "XcE0GFoan-rI"
      },
      "outputs": [],
      "source": [
        "# select the dependent and target\n",
        "#All Features: 'closest_mrt_dist', 'cbd_dist', 'floor_area_sqm', 'years_remaining','flat_model','town', 'storey_range'\n",
        "numerical_features = ['closest_mrt_dist', 'cbd_dist', 'floor_area_sqm', 'years_remaining']\n",
        "categorical_features = ['flat_model','town', 'storey_range']\n",
        "\n",
        "X = trimmed_df[ numerical_features + categorical_features ]\n",
        "y=trimmed_df['resale_price'].values\n",
        "\n",
        "# Import the libary to split the data\n",
        "from sklearn.model_selection import train_test_split\n",
        "X_train, X_test, y_train, y_test = train_test_split(X,y,\n",
        "                                                    test_size = 0.3,\n",
        "                                                    random_state=42)\n",
        "\n",
        "\n",
        "# Print the size of the training and testing data\n",
        "print(X_train.shape, X_test.shape)"
      ]
    },
    {
      "cell_type": "markdown",
      "metadata": {
        "id": "3qXoxUT-tleW"
      },
      "source": [
        "# 4. Use scikit-learn library to train the model\n"
      ]
    },
    {
      "cell_type": "code",
      "execution_count": null,
      "metadata": {
        "id": "pqC7AJ6luMh1"
      },
      "outputs": [],
      "source": [
        "from sklearn.model_selection import GridSearchCV\n",
        "from sklearn.preprocessing import StandardScaler\n",
        "from sklearn.preprocessing import PolynomialFeatures\n",
        "from sklearn.linear_model import LinearRegression\n",
        "from sklearn.pipeline import Pipeline\n",
        "from sklearn.compose import ColumnTransformer\n",
        "from sklearn.preprocessing import OneHotEncoder, OrdinalEncoder\n",
        "\n",
        "\n",
        "##Choosing Encoding Method\n",
        "chosen_encoding_method = input('Which Encoding Method do you like to use\\nEnter 1 for One-Hot Encoding\\nEnter 2 for Label Encoding\\n')\n",
        "\n",
        "if chosen_encoding_method == '1':\n",
        "\n",
        "  preprocessor = ColumnTransformer(\n",
        "      transformers=[\n",
        "          ('num', StandardScaler(),numerical_features ),\n",
        "          ('cat', OneHotEncoder(handle_unknown='ignore'), categorical_features )\n",
        "      ])\n",
        "\n",
        "\n",
        "elif chosen_encoding_method == '2':\n",
        "\n",
        "  preprocessor = ColumnTransformer(\n",
        "      transformers=[\n",
        "          ('num', StandardScaler(), numerical_features),\n",
        "          ('cat', OrdinalEncoder(handle_unknown='use_encoded_value', unknown_value=-1), categorical_features)\n",
        "      ])\n",
        "\n",
        "else:\n",
        "  print(\"Invalid Input. Try again\")\n",
        "\n",
        "\n",
        "##Choosing Poly or Linear Regression\n",
        "chosen_model = input('Which model do you like to use?\\nEnter 1 for Polynomial Regression\\nEnter 2 for Linear Regression\\n')\n",
        "\n",
        "if chosen_model == '1':\n",
        "  steps = [('preprocessor', preprocessor),\n",
        "          ('poly', PolynomialFeatures(degree = 5, include_bias=False)),\n",
        "          ('liReg', LinearRegression())]\n",
        "\n",
        "  pipeline = Pipeline(steps)\n",
        "\n",
        "  parameters = {\"poly__degree\":[2,3]}\n",
        "  model = GridSearchCV(pipeline, parameters,\n",
        "                          cv=5,\n",
        "                          scoring='neg_mean_squared_error',\n",
        "                          verbose= True)\n",
        "\n",
        "  model.fit(X_train, y_train)\n",
        "\n",
        "\n",
        "  #Output best parameter for polynomial regression\n",
        "  best_parameters = model.best_params_\n",
        "  print ('Best order for your polynomial regression is :', best_parameters)\n",
        "\n",
        "\n",
        "elif chosen_model == '2':\n",
        "  steps = [('preprocessor', preprocessor),\n",
        "          ('liReg', LinearRegression())]\n",
        "\n",
        "  model = Pipeline(steps)\n",
        "  model.fit(X_train, y_train)\n",
        "\n",
        "else:\n",
        "  print('Invalid Input. Try again')\n"
      ]
    },
    {
      "cell_type": "markdown",
      "metadata": {
        "id": "_H5HZe_Z0Ilt"
      },
      "source": [
        "# 5. Perform the predictions\n"
      ]
    },
    {
      "cell_type": "code",
      "execution_count": 6,
      "metadata": {
        "id": "tikuApjnyry4"
      },
      "outputs": [],
      "source": [
        "  #predict the sales for the testing data\n",
        "  ytest_pred = model.predict(X_test)\n",
        "  #predict the sales for the training data\n",
        "  ytrain_pred = model.predict(X_train)"
      ]
    },
    {
      "cell_type": "markdown",
      "metadata": {
        "id": "TeIfpNS30NzB"
      },
      "source": [
        "# 6. Visualize the results.\n"
      ]
    },
    {
      "cell_type": "code",
      "execution_count": null,
      "metadata": {
        "id": "sn8jY1wBlVv1"
      },
      "outputs": [],
      "source": [
        "# import matplotlib for visualization\n",
        "import matplotlib.pyplot as plt\n",
        "\n",
        "plt.plot(  y_train, ytrain_pred, 'k*')\n",
        "plt.plot(  y_test, ytest_pred, 'r*')\n",
        "\n",
        "plt.title(\"Predicted value vs. Actual value\")\n",
        "plt.legend([\"Training data\", \"Testing data\"])\n",
        "plt.show()"
      ]
    },
    {
      "cell_type": "markdown",
      "metadata": {
        "id": "0xkTkA9X0BPj"
      },
      "source": [
        "# 7. Evaluate the results using metrics\n"
      ]
    },
    {
      "cell_type": "code",
      "execution_count": null,
      "metadata": {
        "id": "qDg8wt5dy8SR"
      },
      "outputs": [],
      "source": [
        "from sklearn.metrics import mean_absolute_error\n",
        "from sklearn.metrics import mean_squared_error\n",
        "from sklearn.metrics import r2_score\n",
        "\n",
        "# evauate on the training set\n",
        "print('Training')\n",
        "mae = mean_absolute_error(y_train, ytrain_pred)\n",
        "print('Mean absolute error: ', mae)\n",
        "mse = mean_squared_error(y_train, ytrain_pred)\n",
        "print('Mean squared error: ', mse)\n",
        "r2 = r2_score(y_train, ytrain_pred)\n",
        "print('R2 score is: ', r2)\n",
        "print('\\nTesting')\n",
        "# evauate on the testing set\n",
        "mae = mean_absolute_error(y_test, ytest_pred)\n",
        "print('Mean absolute error: ', mae)\n",
        "mse = mean_squared_error(y_test, ytest_pred)\n",
        "print('Mean squared error: ', mse)\n",
        "r2 = r2_score(y_test, ytest_pred)\n",
        "print('R2 score is: ', r2)"
      ]
    },
    {
      "cell_type": "markdown",
      "metadata": {
        "id": "xDfbS-QG-SnW"
      },
      "source": [
        "# 8. Compare the results from One-Hot and Label Encoding Methods"
      ]
    },
    {
      "cell_type": "code",
      "execution_count": null,
      "metadata": {
        "id": "DEsYSjio-Fvq"
      },
      "outputs": [],
      "source": [
        "import matplotlib.pyplot as plt\n",
        "import numpy as np\n",
        "\n",
        "\n",
        "\n",
        "categories = ['Testing', 'Training']\n",
        "\n",
        "\n",
        "## Enter the results of R2 scores here\n",
        "\n",
        "one_hot_encoding = [0.0, 0.0]\n",
        "\n",
        "label_encoding = [0.0, 0.0]\n",
        "\n",
        "\n",
        "\n",
        "\n",
        "\n",
        "x = np.arange(len(categories))  # the label locations\n",
        "width = 0.35  # the width of the bars\n",
        "\n",
        "fig, ax = plt.subplots()\n",
        "\n",
        "# Plotting One-Hot bars\n",
        "rects1 = ax.bar(x - width/2, one_hot_encoding, width, label='One-Hot', color='darkblue')\n",
        "\n",
        "# Plotting RMSE bars\n",
        "rects2 = ax.bar(x + width/2, label_encoding, width, label='Label (Best', color='orange')\n",
        "\n",
        "# Add some text for labels, title and custom x-axis tick labels, etc.\n",
        "ax.set_ylabel('R2 Score')\n",
        "ax.set_ylim([0.7, 0.9])  # Setting Y scale from 0 to 1\n",
        "ax.set_title('One-hot and Label Enconding Comparison')\n",
        "ax.set_xticks(x)\n",
        "ax.set_xticklabels(categories)\n",
        "ax.legend()\n",
        "\n",
        "# Display the plot\n",
        "plt.show()"
      ]
    }
  ],
  "metadata": {
    "colab": {
      "provenance": []
    },
    "kernelspec": {
      "display_name": "Python 3",
      "name": "python3"
    },
    "language_info": {
      "name": "python"
    }
  },
  "nbformat": 4,
  "nbformat_minor": 0
}
